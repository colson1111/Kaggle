{
 "cells": [
  {
   "cell_type": "markdown",
   "metadata": {},
   "source": [
    "## Baseball Data Prediction"
   ]
  },
  {
   "cell_type": "markdown",
   "metadata": {},
   "source": [
    "My goal is to predict if a team will make the playoffs and win the World Series but looking at data prior to the midpoint in the season.  In the past, I've used an historical Bayes approach to this problem, and I would like to recreate it, and then try a few different approaches.\n",
    "\n",
    "The first step is to read in the gamelog data that I pulled from Retrosheet: http://www.retrosheet.org/gamelogs/index.html\n",
    "\n",
    "I've grabbed all seasons since 1980, which I think should be enough for what I'm working on.  A few of the challenges I might face using historical data: expansion teams, division changes, playoff format changes, rule changes, strike-shortened seasons, etc.\n"
   ]
  },
  {
   "cell_type": "code",
   "execution_count": 62,
   "metadata": {
    "collapsed": true
   },
   "outputs": [],
   "source": [
    "import sqlite3\n",
    "import numpy as np\n",
    "import pandas as pd\n",
    "import matplotlib.pyplot as plt\n",
    "\n",
    "import os\n",
    "import csv\n",
    "\n",
    "from sklearn.preprocessing import StandardScaler\n",
    "from sklearn.cluster import KMeans"
   ]
  },
  {
   "cell_type": "code",
   "execution_count": 63,
   "metadata": {
    "collapsed": false
   },
   "outputs": [
    {
     "name": "stdout",
     "output_type": "stream",
     "text": [
      "['GL2007.TXT', 'GL1987.TXT', 'GL1981.TXT', 'GL1996.TXT', 'GL1985.TXT', 'GL1998.TXT', 'GL1993.TXT', 'GL2001.TXT', 'GL2011.TXT', 'GL2000.TXT', 'GL1980.TXT', 'GL2012.TXT', 'GL1997.TXT', 'GL2015.TXT', 'GL2016.TXT', 'GL2004.TXT', 'GL1989.TXT', 'GL2008.TXT', 'GL2003.TXT', 'GL1982.TXT', 'GL2005.TXT', 'GL2006.TXT', 'GL2014.TXT', 'GL1999.TXT', 'GL1991.TXT', 'GL1983.TXT', 'GL1986.TXT', 'GL2013.TXT', 'GL2002.TXT', 'GL1995.TXT', 'GL1990.TXT', 'GL2009.TXT', 'GL1984.TXT', 'GL1988.TXT', 'GL2010.TXT', 'GL1994.TXT', 'GL1992.TXT']\n"
     ]
    }
   ],
   "source": [
    "path = \"/home/craig/Documents/ML_Projects/Kaggle/Baseball/\"\n",
    "folder = \"games/\"\n",
    "files = os.listdir(path + folder)\n",
    "print(files)"
   ]
  },
  {
   "cell_type": "code",
   "execution_count": 64,
   "metadata": {
    "collapsed": false
   },
   "outputs": [],
   "source": [
    "# Get the headers file and read in the game log files\n",
    "with open(path + \"gamelog_headers.csv\", 'r') as f:\n",
    "    reader = csv.reader(f)\n",
    "    headers = list(reader)\n",
    "\n",
    "headers = headers[0]\n",
    "gamelog = pd.DataFrame()\n",
    "\n",
    "for file in files:\n",
    "    gamelog = gamelog.append(pd.read_csv(path + folder + file, header=None, names=headers))\n",
    "    "
   ]
  },
  {
   "cell_type": "code",
   "execution_count": 65,
   "metadata": {
    "collapsed": false
   },
   "outputs": [
    {
     "data": {
      "text/plain": [
       "(83229, 161)"
      ]
     },
     "execution_count": 65,
     "metadata": {},
     "output_type": "execute_result"
    }
   ],
   "source": [
    "gamelog.shape  # 83,229 rows, 161 columns"
   ]
  },
  {
   "cell_type": "markdown",
   "metadata": {},
   "source": [
    "Now that the data has been read in, there is a ton of data cleaning to do.  First, I'm going to save the data in the sqlite database so I can get it back easily."
   ]
  },
  {
   "cell_type": "code",
   "execution_count": 67,
   "metadata": {
    "collapsed": false
   },
   "outputs": [
    {
     "name": "stdout",
     "output_type": "stream",
     "text": [
      "Table already exists.\n"
     ]
    }
   ],
   "source": [
    "conn = sqlite3.connect(\"/home/craig/Documents/ML_Projects/Kaggle/Baseball/database.db\")\n",
    "try:\n",
    "    gamelog.to_sql(\"gamelog\",conn)\n",
    "except ValueError:\n",
    "    print(\"Table already exists.\")"
   ]
  },
  {
   "cell_type": "code",
   "execution_count": null,
   "metadata": {
    "collapsed": true
   },
   "outputs": [],
   "source": []
  }
 ],
 "metadata": {
  "anaconda-cloud": {},
  "kernelspec": {
   "display_name": "Python [conda root]",
   "language": "python",
   "name": "conda-root-py"
  },
  "language_info": {
   "codemirror_mode": {
    "name": "ipython",
    "version": 3
   },
   "file_extension": ".py",
   "mimetype": "text/x-python",
   "name": "python",
   "nbconvert_exporter": "python",
   "pygments_lexer": "ipython3",
   "version": "3.5.2"
  }
 },
 "nbformat": 4,
 "nbformat_minor": 1
}
