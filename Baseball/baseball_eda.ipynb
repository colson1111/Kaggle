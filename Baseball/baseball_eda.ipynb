{
 "cells": [
  {
   "cell_type": "markdown",
   "metadata": {},
   "source": [
    "In this project, I'm going to explore the Kaggle baseball data set.  This file reads in the teams data from the sqlite database, does some data exploration and visualization, and finally I will do some unsupervised clustering to see if there's anything interesting there."
   ]
  },
  {
   "cell_type": "code",
   "execution_count": 161,
   "metadata": {
    "collapsed": true
   },
   "outputs": [],
   "source": [
    "import sqlite3\n",
    "import numpy as np\n",
    "import pandas as pd\n",
    "import matplotlib.pyplot as plt\n",
    "\n",
    "from sklearn.preprocessing import Imputer"
   ]
  },
  {
   "cell_type": "markdown",
   "metadata": {
    "collapsed": true
   },
   "source": [
    "The data can be found in a sqlite database which I downloaded from the Kaggle datasets site.  I read the team table into a pandas DataFrame called teams."
   ]
  },
  {
   "cell_type": "code",
   "execution_count": 162,
   "metadata": {
    "collapsed": true
   },
   "outputs": [],
   "source": [
    "conn = sqlite3.connect(\"/home/craig/Documents/ML_Projects/Kaggle/Baseball/database.db\")\n",
    "teams = pd.read_sql_query(\"SELECT * FROM team\", conn)\n",
    "teams = teams.loc[teams['year'] >= 1950]"
   ]
  },
  {
   "cell_type": "markdown",
   "metadata": {},
   "source": [
    "I'm going to inspect the shape of the data, the data types of the columns, and then remove a couple of unnecessary identifier columns.  Some columns that should be numeric are not currently formatted as such, so I will need to cast those as well."
   ]
  },
  {
   "cell_type": "code",
   "execution_count": 163,
   "metadata": {
    "collapsed": false
   },
   "outputs": [],
   "source": [
    "teams.shape  # 1622 x 48 columns\n",
    "teams.dtypes\n",
    "\n",
    "def removeColumns(data, ids=[]):\n",
    "    try:\n",
    "        new_data = data.drop(labels=ids, axis=1,inplace=False)\n",
    "    except:\n",
    "        print(\"Columns already removed\")\n",
    "    return new_data\n",
    "\n",
    "# remove unwanted ID columns\n",
    "teams = removeColumns(teams, ids=['team_id_lahman45', 'team_id_retro'])\n",
    "\n",
    "# create new DataFrame that only contains numeric variables\n",
    "cols = ['year','league_id','franchise_id','div_id','div_win','wc_win',\n",
    "        'lg_win','ws_win','team_id_br','name','park','team_id','rank']\n",
    "teams_num = removeColumns(teams, cols)\n"
   ]
  },
  {
   "cell_type": "code",
   "execution_count": 164,
   "metadata": {
    "collapsed": false
   },
   "outputs": [
    {
     "data": {
      "text/html": [
       "<div>\n",
       "<table border=\"1\" class=\"dataframe\">\n",
       "  <thead>\n",
       "    <tr style=\"text-align: right;\">\n",
       "      <th></th>\n",
       "      <th>g</th>\n",
       "      <th>ghome</th>\n",
       "      <th>w</th>\n",
       "      <th>l</th>\n",
       "      <th>r</th>\n",
       "      <th>ab</th>\n",
       "      <th>h</th>\n",
       "      <th>double</th>\n",
       "      <th>triple</th>\n",
       "      <th>hr</th>\n",
       "      <th>...</th>\n",
       "      <th>ha</th>\n",
       "      <th>hra</th>\n",
       "      <th>bba</th>\n",
       "      <th>soa</th>\n",
       "      <th>e</th>\n",
       "      <th>dp</th>\n",
       "      <th>fp</th>\n",
       "      <th>attendance</th>\n",
       "      <th>bpf</th>\n",
       "      <th>ppf</th>\n",
       "    </tr>\n",
       "  </thead>\n",
       "  <tbody>\n",
       "    <tr>\n",
       "      <th>count</th>\n",
       "      <td>1622.000000</td>\n",
       "      <td>1622.000000</td>\n",
       "      <td>1622.000000</td>\n",
       "      <td>1622.000000</td>\n",
       "      <td>1622.000000</td>\n",
       "      <td>1622.000000</td>\n",
       "      <td>1622.000000</td>\n",
       "      <td>1622.000000</td>\n",
       "      <td>1622.000000</td>\n",
       "      <td>1622.000000</td>\n",
       "      <td>...</td>\n",
       "      <td>1622.000000</td>\n",
       "      <td>1622.000000</td>\n",
       "      <td>1622.000000</td>\n",
       "      <td>1622.000000</td>\n",
       "      <td>1622.000000</td>\n",
       "      <td>1622.000000</td>\n",
       "      <td>1622.000000</td>\n",
       "      <td>1.622000e+03</td>\n",
       "      <td>1622.000000</td>\n",
       "      <td>1622.000000</td>\n",
       "    </tr>\n",
       "    <tr>\n",
       "      <th>mean</th>\n",
       "      <td>158.991369</td>\n",
       "      <td>79.487053</td>\n",
       "      <td>79.407522</td>\n",
       "      <td>79.407522</td>\n",
       "      <td>700.036375</td>\n",
       "      <td>5420.927250</td>\n",
       "      <td>1403.971640</td>\n",
       "      <td>249.426017</td>\n",
       "      <td>34.726880</td>\n",
       "      <td>142.334155</td>\n",
       "      <td>...</td>\n",
       "      <td>1403.995068</td>\n",
       "      <td>142.334155</td>\n",
       "      <td>523.454377</td>\n",
       "      <td>933.592478</td>\n",
       "      <td>122.448212</td>\n",
       "      <td>149.462392</td>\n",
       "      <td>0.976628</td>\n",
       "      <td>1.823473e+06</td>\n",
       "      <td>100.203453</td>\n",
       "      <td>100.202836</td>\n",
       "    </tr>\n",
       "    <tr>\n",
       "      <th>std</th>\n",
       "      <td>9.558091</td>\n",
       "      <td>4.864685</td>\n",
       "      <td>12.548330</td>\n",
       "      <td>12.499713</td>\n",
       "      <td>98.014348</td>\n",
       "      <td>334.846959</td>\n",
       "      <td>118.440042</td>\n",
       "      <td>43.613853</td>\n",
       "      <td>10.870558</td>\n",
       "      <td>39.570433</td>\n",
       "      <td>...</td>\n",
       "      <td>121.086445</td>\n",
       "      <td>33.237289</td>\n",
       "      <td>75.161788</td>\n",
       "      <td>187.755024</td>\n",
       "      <td>25.348322</td>\n",
       "      <td>20.221952</td>\n",
       "      <td>0.006180</td>\n",
       "      <td>8.299794e+05</td>\n",
       "      <td>4.690472</td>\n",
       "      <td>4.794369</td>\n",
       "    </tr>\n",
       "    <tr>\n",
       "      <th>min</th>\n",
       "      <td>103.000000</td>\n",
       "      <td>44.000000</td>\n",
       "      <td>37.000000</td>\n",
       "      <td>40.000000</td>\n",
       "      <td>329.000000</td>\n",
       "      <td>3493.000000</td>\n",
       "      <td>797.000000</td>\n",
       "      <td>119.000000</td>\n",
       "      <td>11.000000</td>\n",
       "      <td>32.000000</td>\n",
       "      <td>...</td>\n",
       "      <td>827.000000</td>\n",
       "      <td>40.000000</td>\n",
       "      <td>268.000000</td>\n",
       "      <td>388.000000</td>\n",
       "      <td>54.000000</td>\n",
       "      <td>74.000000</td>\n",
       "      <td>0.960000</td>\n",
       "      <td>2.471310e+05</td>\n",
       "      <td>88.000000</td>\n",
       "      <td>88.000000</td>\n",
       "    </tr>\n",
       "    <tr>\n",
       "      <th>25%</th>\n",
       "      <td>161.000000</td>\n",
       "      <td>80.000000</td>\n",
       "      <td>71.000000</td>\n",
       "      <td>71.000000</td>\n",
       "      <td>640.000000</td>\n",
       "      <td>5409.000000</td>\n",
       "      <td>1351.000000</td>\n",
       "      <td>216.000000</td>\n",
       "      <td>27.000000</td>\n",
       "      <td>113.250000</td>\n",
       "      <td>...</td>\n",
       "      <td>1346.000000</td>\n",
       "      <td>119.000000</td>\n",
       "      <td>476.000000</td>\n",
       "      <td>802.250000</td>\n",
       "      <td>104.000000</td>\n",
       "      <td>136.000000</td>\n",
       "      <td>0.970000</td>\n",
       "      <td>1.143266e+06</td>\n",
       "      <td>97.000000</td>\n",
       "      <td>97.000000</td>\n",
       "    </tr>\n",
       "    <tr>\n",
       "      <th>50%</th>\n",
       "      <td>162.000000</td>\n",
       "      <td>81.000000</td>\n",
       "      <td>80.000000</td>\n",
       "      <td>79.000000</td>\n",
       "      <td>699.000000</td>\n",
       "      <td>5497.000000</td>\n",
       "      <td>1410.000000</td>\n",
       "      <td>250.000000</td>\n",
       "      <td>34.000000</td>\n",
       "      <td>140.000000</td>\n",
       "      <td>...</td>\n",
       "      <td>1411.000000</td>\n",
       "      <td>142.000000</td>\n",
       "      <td>522.000000</td>\n",
       "      <td>930.500000</td>\n",
       "      <td>122.000000</td>\n",
       "      <td>150.000000</td>\n",
       "      <td>0.980000</td>\n",
       "      <td>1.733647e+06</td>\n",
       "      <td>100.000000</td>\n",
       "      <td>100.000000</td>\n",
       "    </tr>\n",
       "    <tr>\n",
       "      <th>75%</th>\n",
       "      <td>162.000000</td>\n",
       "      <td>81.000000</td>\n",
       "      <td>89.000000</td>\n",
       "      <td>88.000000</td>\n",
       "      <td>761.750000</td>\n",
       "      <td>5565.750000</td>\n",
       "      <td>1476.000000</td>\n",
       "      <td>281.000000</td>\n",
       "      <td>41.000000</td>\n",
       "      <td>167.750000</td>\n",
       "      <td>...</td>\n",
       "      <td>1479.000000</td>\n",
       "      <td>165.000000</td>\n",
       "      <td>572.000000</td>\n",
       "      <td>1060.000000</td>\n",
       "      <td>139.000000</td>\n",
       "      <td>163.000000</td>\n",
       "      <td>0.981000</td>\n",
       "      <td>2.402519e+06</td>\n",
       "      <td>103.000000</td>\n",
       "      <td>103.000000</td>\n",
       "    </tr>\n",
       "    <tr>\n",
       "      <th>max</th>\n",
       "      <td>165.000000</td>\n",
       "      <td>84.000000</td>\n",
       "      <td>116.000000</td>\n",
       "      <td>120.000000</td>\n",
       "      <td>1027.000000</td>\n",
       "      <td>5781.000000</td>\n",
       "      <td>1684.000000</td>\n",
       "      <td>376.000000</td>\n",
       "      <td>79.000000</td>\n",
       "      <td>264.000000</td>\n",
       "      <td>...</td>\n",
       "      <td>1734.000000</td>\n",
       "      <td>241.000000</td>\n",
       "      <td>801.000000</td>\n",
       "      <td>1450.000000</td>\n",
       "      <td>210.000000</td>\n",
       "      <td>215.000000</td>\n",
       "      <td>0.991000</td>\n",
       "      <td>4.483350e+06</td>\n",
       "      <td>129.000000</td>\n",
       "      <td>129.000000</td>\n",
       "    </tr>\n",
       "  </tbody>\n",
       "</table>\n",
       "<p>8 rows × 33 columns</p>\n",
       "</div>"
      ],
      "text/plain": [
       "                 g        ghome            w            l            r  \\\n",
       "count  1622.000000  1622.000000  1622.000000  1622.000000  1622.000000   \n",
       "mean    158.991369    79.487053    79.407522    79.407522   700.036375   \n",
       "std       9.558091     4.864685    12.548330    12.499713    98.014348   \n",
       "min     103.000000    44.000000    37.000000    40.000000   329.000000   \n",
       "25%     161.000000    80.000000    71.000000    71.000000   640.000000   \n",
       "50%     162.000000    81.000000    80.000000    79.000000   699.000000   \n",
       "75%     162.000000    81.000000    89.000000    88.000000   761.750000   \n",
       "max     165.000000    84.000000   116.000000   120.000000  1027.000000   \n",
       "\n",
       "                ab            h       double       triple           hr  \\\n",
       "count  1622.000000  1622.000000  1622.000000  1622.000000  1622.000000   \n",
       "mean   5420.927250  1403.971640   249.426017    34.726880   142.334155   \n",
       "std     334.846959   118.440042    43.613853    10.870558    39.570433   \n",
       "min    3493.000000   797.000000   119.000000    11.000000    32.000000   \n",
       "25%    5409.000000  1351.000000   216.000000    27.000000   113.250000   \n",
       "50%    5497.000000  1410.000000   250.000000    34.000000   140.000000   \n",
       "75%    5565.750000  1476.000000   281.000000    41.000000   167.750000   \n",
       "max    5781.000000  1684.000000   376.000000    79.000000   264.000000   \n",
       "\n",
       "          ...                ha          hra          bba          soa  \\\n",
       "count     ...       1622.000000  1622.000000  1622.000000  1622.000000   \n",
       "mean      ...       1403.995068   142.334155   523.454377   933.592478   \n",
       "std       ...        121.086445    33.237289    75.161788   187.755024   \n",
       "min       ...        827.000000    40.000000   268.000000   388.000000   \n",
       "25%       ...       1346.000000   119.000000   476.000000   802.250000   \n",
       "50%       ...       1411.000000   142.000000   522.000000   930.500000   \n",
       "75%       ...       1479.000000   165.000000   572.000000  1060.000000   \n",
       "max       ...       1734.000000   241.000000   801.000000  1450.000000   \n",
       "\n",
       "                 e           dp           fp    attendance          bpf  \\\n",
       "count  1622.000000  1622.000000  1622.000000  1.622000e+03  1622.000000   \n",
       "mean    122.448212   149.462392     0.976628  1.823473e+06   100.203453   \n",
       "std      25.348322    20.221952     0.006180  8.299794e+05     4.690472   \n",
       "min      54.000000    74.000000     0.960000  2.471310e+05    88.000000   \n",
       "25%     104.000000   136.000000     0.970000  1.143266e+06    97.000000   \n",
       "50%     122.000000   150.000000     0.980000  1.733647e+06   100.000000   \n",
       "75%     139.000000   163.000000     0.981000  2.402519e+06   103.000000   \n",
       "max     210.000000   215.000000     0.991000  4.483350e+06   129.000000   \n",
       "\n",
       "               ppf  \n",
       "count  1622.000000  \n",
       "mean    100.202836  \n",
       "std       4.794369  \n",
       "min      88.000000  \n",
       "25%      97.000000  \n",
       "50%     100.000000  \n",
       "75%     103.000000  \n",
       "max     129.000000  \n",
       "\n",
       "[8 rows x 33 columns]"
      ]
     },
     "execution_count": 164,
     "metadata": {},
     "output_type": "execute_result"
    }
   ],
   "source": [
    "# Convert all remaining columns to numeric\n",
    "teams_num = teams_num.apply(pd.to_numeric)\n",
    "# teams_num.dtypes\n",
    "teams_num.describe()"
   ]
  },
  {
   "cell_type": "markdown",
   "metadata": {},
   "source": [
    "Next I'm going to create few variables based on basic baseball statistics that are generally thought to be indicative of team performance:  Slugging Percentage, On-base Percentage, and Walks+Hits per Inning Pitched.  The first two variables are often thought to be among the most important basic statistics for batters, while the third is an important pitching statistics.  I'm also going to create a separate singles variables, since doubles/triples/home runs are contained within the hits statistic, we can remove some of the relationship that we know to exist.  It will also make other statistics easier to calculate."
   ]
  },
  {
   "cell_type": "code",
   "execution_count": 165,
   "metadata": {
    "collapsed": false
   },
   "outputs": [],
   "source": [
    "# First, we need to deal with NaN values in hbp and sf.  Let's impute NaNs to the mean value of the column.\n",
    "# It's likely that these values were simply not tracked for earlier years, so we don't want to artificially\n",
    "# devalue these stats for earlier years.\n",
    "teams_num.isnull().sum()\n",
    "\n",
    "teams_num['sf'].fillna(teams_num['sf'].mean(), inplace=True)\n",
    "teams_num['hbp'].fillna(teams_num['hbp'].mean(), inplace=True)"
   ]
  },
  {
   "cell_type": "code",
   "execution_count": 166,
   "metadata": {
    "collapsed": false
   },
   "outputs": [],
   "source": [
    "# Now we can create a singles column and games away column, as well as the more complicated stats mentioned above.\n",
    "teams_num['single'] = teams_num['h'] - teams_num['double'] - teams_num['triple'] - teams_num['hr']\n",
    "teams_num['gaway'] = teams_num['g'] - teams_num['ghome']\n",
    "teams_num['obp'] = (teams_num['h'] + teams_num['bb'] + teams_num['hbp']) / (teams_num['ab'] + teams_num['bb'] + teams_num['hbp'] + teams_num['sf'])\n",
    "teams_num['slg'] = (teams_num['single'] + teams_num['double']*2 + teams_num['triple']*3 + teams_num['hr']*4) / teams_num['ab']\n",
    "teams_num['whip'] = (teams_num['bba'] + teams_num['ha']) / (teams_num['ipouts'] / 3)\n",
    "\n",
    "# remove columns that we've made better columns for\n",
    "teams_num = removeColumns(teams_num, ['g', 'h'])"
   ]
  },
  {
   "cell_type": "markdown",
   "metadata": {},
   "source": [
    "Next I want to check out any correlation among the variables using a correlation heatmap.  Since there are quite a few variables, it will be easier to see areas of concern than by look at correlation coefficients"
   ]
  },
  {
   "cell_type": "code",
   "execution_count": 171,
   "metadata": {
    "collapsed": false
   },
   "outputs": [
    {
     "data": {
      "image/png": "[encoded data removed]",
      "text/plain": [
       "<matplotlib.figure.Figure at 0x7f832f642f28>"
      ]
     },
     "metadata": {},
     "output_type": "display_data"
    }
   ],
   "source": [
    "plt.matshow(teams_num.corr())\n",
    "plt.show()"
   ]
  },
  {
   "cell_type": "markdown",
   "metadata": {},
   "source": [
    "We can see some interesting correlation between variables 2 and 3, around 3-6, and around 14-18.\n",
    "There are a few more pockets in the plot, but I'll inspect these for now, and just remain cognizant\n",
    "that I might need to deal with multicollinearity at some point.\n",
    "\n",
    "1.  Columns 2 and 3 are losses and runs.  These are negatively correlated.  This makes perfect sense, if a teams scores\n",
    "    fewer runs, we'd expect them to win fewer games.\n",
    "2.  Columns 3-6 are runs, at bats, doubles and triples.  These are all positively correlated - this makes sense\n",
    "    that a team with more offensive productions would have more runs and more at bats.\n",
    "3.  Columns 14-18 are runs against, earned runs allowed, earned run average, complete games pitched and shutouts pitched.\n",
    "    The first three are all positively correlated and indicate poor pitching performance.  The last two are \n",
    "    negatively correlated with the first three, because they indicate good pitching performance.\n",
    "    \n",
    "Overall, the correlation we see in the data seems to make sense"
   ]
  },
  {
   "cell_type": "code",
   "execution_count": null,
   "metadata": {
    "collapsed": false
   },
   "outputs": [],
   "source": [
    "teams_num[[2,3]] # losses and runs\n",
    "teams_num[[3,4,5,6]] # runs, ab, double, triple\n",
    "teams_num[[14,15,16,17,18]] # ra, er, era are all positively correlated, cg and sho are negatively correlated with those"
   ]
  },
  {
   "cell_type": "code",
   "execution_count": null,
   "metadata": {
    "collapsed": true
   },
   "outputs": [],
   "source": []
  }
 ],
 "metadata": {
  "anaconda-cloud": {},
  "kernelspec": {
   "display_name": "Python [conda root]",
   "language": "python",
   "name": "conda-root-py"
  },
  "language_info": {
   "codemirror_mode": {
    "name": "ipython",
    "version": 3
   },
   "file_extension": ".py",
   "mimetype": "text/x-python",
   "name": "python",
   "nbconvert_exporter": "python",
   "pygments_lexer": "ipython3",
   "version": "3.5.2"
  }
 },
 "nbformat": 4,
 "nbformat_minor": 1
}
